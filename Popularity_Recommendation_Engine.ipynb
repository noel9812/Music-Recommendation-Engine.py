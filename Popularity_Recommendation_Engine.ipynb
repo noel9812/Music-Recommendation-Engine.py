{
 "cells": [
  {
   "cell_type": "code",
   "execution_count": 1,
   "metadata": {},
   "outputs": [],
   "source": [
    "import numpy as np\n",
    "import pandas"
   ]
  },
  {
   "cell_type": "code",
   "execution_count": 2,
   "metadata": {},
   "outputs": [],
   "source": [
    "class popularity_recommender():\n",
    "\n",
    "    #Initialising by defining the variables - times_data, user_id, song_id and popularity recommendation.\n",
    "    def __init__(self):\n",
    "        self.times_data = None                                \n",
    "        self.user_id = None                             \n",
    "        self.songi_id = None                             \n",
    "        self.pop_recommendations = None              \n",
    "        \n",
    "    #Create the popularity recommendation system model\n",
    "    def create_p(self, times_data, user_id, songi_id):\n",
    "        self.times_data = times_data\n",
    "        self.user_id = user_id\n",
    "        self.songi_id = songi_id\n",
    "        \n",
    "        #Finds out the number of times each song has been listened to, to give a recommendation score \n",
    "        times_data_grouped = times_data.groupby([self.songi_id]).agg({self.user_id: 'count'}).reset_index()\n",
    "        times_data_grouped.rename(columns = {'user_id': 'score'},inplace=True)\n",
    "    \n",
    "        #Sorting the songs in ascending order\n",
    "        times_data_sort = times_data_grouped.sort_values(['score', self.songi_id], ascending = [0,1])\n",
    "    \n",
    "        #Generate a recommendation rank based upon score\n",
    "        times_data_sort['Rank'] = times_data_sort['score'].rank(ascending=0, method='first')\n",
    "        \n",
    "        #Obtain the top 10 recommendations generated\n",
    "        self.pop_recommendations = times_data_sort.head(10)\n",
    "        \n",
    "    \n",
    "    #Use the popularity recommendation system model to give recommendations\n",
    "    def recommend_p(self, user_id):    \n",
    "        user_recommendations = self.pop_recommendations\n",
    "        \n",
    "        #Make a user_id column for which the recommended songs are generated\n",
    "        user_recommendations['user_id'] = user_id\n",
    "    \n",
    "        #Bring user_id column to the front\n",
    "        cols = user_recommendations.columns.tolist()\n",
    "        cols = cols[-1:] + cols[:-1]\n",
    "        user_recommendations = user_recommendations[cols]\n",
    "        \n",
    "        return user_recommendations"
   ]
  }
 ],
 "metadata": {
  "kernelspec": {
   "display_name": "Python 3",
   "language": "python",
   "name": "python3"
  },
  "language_info": {
   "codemirror_mode": {
    "name": "ipython",
    "version": 3
   },
   "file_extension": ".py",
   "mimetype": "text/x-python",
   "name": "python",
   "nbconvert_exporter": "python",
   "pygments_lexer": "ipython3",
   "version": "3.8.2"
  }
 },
 "nbformat": 4,
 "nbformat_minor": 4
}
